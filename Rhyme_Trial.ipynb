{
 "cells": [
  {
   "cell_type": "markdown",
   "metadata": {},
   "source": [
    "# A rhyme helper\n",
    "\n",
    "Reference book: http://www.nltk.org/book/\n",
    "\n",
    "Tool: CMU pronouncing dictionary \n",
    "Goal: to find words that form perfect rhymes with a given word\n",
    "* The stressed vowel sound in both words must be identical, as well as any subsequent sounds. For example, \"sky\" and \"high\"; \"skylight\" and \"highlight\".\n",
    "* The articulation that precedes the vowel in the words must differ. For example, the pair \"bean\" and \"green\" is a perfect rhyme, as is \"own\" and \"bone\", while \"leave\" and \"believe\" is not. (Note that this condition excludes cases like \"grief\" and \"brief\", which do not differ in the preceding articulation -- the \"r\", but which can considered a perfect rhyme nonetheless. We conveniently ignore them here!)\n",
    "\n",
    "\n",
    "Structure: \n",
    "           have a function that takes a word (as a string) and the CMU entries as its two arguments, and returns a list or a set of all words that form a perfect rhyme pair with it. - format as `get_perfect_rhymes(word, pronunciation_entries)`, or any other name you see fit."
   ]
  },
  {
   "cell_type": "code",
   "execution_count": 1,
   "metadata": {
    "collapsed": true
   },
   "outputs": [],
   "source": [
    "#containing code to load the CMU pronouncing dictionary\n",
    "import nltk\n",
    "nltk.data.path.append('/var/jupyterhubdata/courses/LIN340H5/data/nltk_data')\n",
    "pronunciation_entries = nltk.corpus.cmudict.entries()     \n",
    "\n",
    "#pronunciation_entries as list of tuples (word, pron)\n",
    "# Len: 133737"
   ]
  },
  {
   "cell_type": "code",
   "execution_count": 2,
   "metadata": {
    "collapsed": true
   },
   "outputs": [],
   "source": [
    "def stress(pron):\n",
    "    '''\n",
    "    Referred from book chapter 2: \n",
    "    The phones contain digits to represent primary stress (1), secondary stress (2) and no stress (0). \n",
    "    We define a function to extract the stress digits and then scan our lexicon to find words having a particular stress pattern.\n",
    "    '''\n",
    "    return [char for phone in pron for char in phone if char.isdigit()]"
   ]
  },
  {
   "cell_type": "code",
   "execution_count": 12,
   "metadata": {
    "collapsed": true
   },
   "outputs": [],
   "source": [
    "def get_perfect_rhymes(input_words,pronunciation):\n",
    "    # syllable: get prounciation for input_words\n",
    "    syllable = [pron for word, pron in pronunciation_entries if word == input_words][0]\n",
    "    # vowel: all vowel should prounciate starting with letters in the list\n",
    "    vowel = ['A','E','I','O','U']\n",
    "    \n",
    "    # last_vowel_index: obtain all vowel prounciation from syllable\n",
    "    last_vowel_index = [syllable.index(pronc) for pronc in syllable for read in vowel if read == pronc[0]]\n",
    "    # stress_vowel: extract the stress digits for input_words prounciation \n",
    "    stress_vowel = stress([pron for word, pron in pronunciation_entries if word == input_words][0])\n",
    "    # index：obtain index of stressed vowel\n",
    "    index = last_vowel_index[stress_vowel.index('1')]-len(syllable)\n",
    "    \n",
    "    # rhyme: obtain words in the list where prounication matches, not the same original input_words; \n",
    "    rhyme = [word for word, pron in pronunciation_entries if pron[index:] == syllable[index:] and input_words not in word]\n",
    "    \n",
    "    return rhyme"
   ]
  },
  {
   "cell_type": "code",
   "execution_count": 3,
   "metadata": {
    "collapsed": true
   },
   "outputs": [],
   "source": [
    "'''\n",
    "Consider previous syllable before stressed vowel? \n",
    "'''\n",
    "\n",
    "\n",
    "# def get_perfect_rhymes(input_words,pronunciation):\n",
    "#     syllable = [pron for word, pron in pronunciation_entries if word == input_words][0]\n",
    "#     vowel = ['A','E','I','O','U']\n",
    "    \n",
    "#     last_vowel_index = [syllable.index(pronc) for pronc in syllable for read in vowel if read == pronc[0]]\n",
    "#     stress_vowel = stress([pron for word, pron in pronunciation_entries if word == input_words][0])\n",
    "#     index = last_vowel_index[stress_vowel.index('1')]-len(syllable)\n",
    "#     previous_index = last_vowel_index[stress_vowel.index('1')-1]-len(syllable)\n",
    "    \n",
    "#     rhyme = [word for word, pron in pronunciation_entries if pron[index:] == syllable[index:] and input_words not in word and all(elem in pron[index:previous_index] for elem in syllable) == True]\n",
    "    \n",
    "#     return rhyme"
   ]
  },
  {
   "cell_type": "markdown",
   "metadata": {},
   "source": [
    "# Test cases"
   ]
  },
  {
   "cell_type": "code",
   "execution_count": 13,
   "metadata": {},
   "outputs": [
    {
     "name": "stdout",
     "output_type": "stream",
     "text": [
      "{'arch', 'bartsch', 'karcz', 'parch', 'larch', 'demarche', 'partch', 'march'}\n",
      "{'arch', 'bartsch', 'karcz', 'parch', 'larch', 'demarche', 'partch', 'march'}\n"
     ]
    }
   ],
   "source": [
    "test_case_starch = set(['arch', 'bartsch', 'demarche', 'demarche', 'karcz', 'larch', 'march', 'parch', 'partch'])\n",
    "print(test_case_starch)\n",
    "print(set(get_perfect_rhymes('starch', pronunciation_entries)))\n",
    "assert set(get_perfect_rhymes('starch', pronunciation_entries)) == test_case_starch"
   ]
  },
  {
   "cell_type": "code",
   "execution_count": 16,
   "metadata": {},
   "outputs": [
    {
     "name": "stdout",
     "output_type": "stream",
     "text": [
      "{'arn', 'harne', 'garn', 'arnn', 'dezarn', 'carn', 'mccarn', 'varn', 'karn', 'barn', 'carne', 'starn', 'darn', 'arne', 'harn'}\n",
      "{'arn', 'harne', 'garn', 'arnn', 'dezarn', 'carn', 'mccarn', 'varn', 'karn', 'barn', 'carne', 'starn', 'darn', 'arne', 'harn'}\n"
     ]
    }
   ],
   "source": [
    "test_case_yarn = set(['arn', 'arne', 'arnn', 'barn', 'carn', 'carne', 'darn', 'dezarn', 'garn', 'harn', 'harne', 'karn', 'mccarn', 'starn', 'varn'])\n",
    "print(test_case_yarn)\n",
    "print(set(get_perfect_rhymes('yarn', pronunciation_entries)))\n",
    "assert set(get_perfect_rhymes('yarn', pronunciation_entries)) == test_case_yarn"
   ]
  }
 ],
 "metadata": {
  "kernelspec": {
   "display_name": "Python 3",
   "language": "python",
   "name": "python3"
  },
  "language_info": {
   "codemirror_mode": {
    "name": "ipython",
    "version": 3
   },
   "file_extension": ".py",
   "mimetype": "text/x-python",
   "name": "python",
   "nbconvert_exporter": "python",
   "pygments_lexer": "ipython3",
   "version": "3.6.3"
  }
 },
 "nbformat": 4,
 "nbformat_minor": 2
}
